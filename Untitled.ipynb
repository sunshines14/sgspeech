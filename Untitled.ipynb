{
 "cells": [
  {
   "cell_type": "code",
   "execution_count": 1,
   "metadata": {},
   "outputs": [],
   "source": [
    "import os\n",
    "os.environ[\"CUDA_DEVICE_ORDER\"]=\"PCI_BUS_ID\"\n",
    "\n",
    "os.environ[\"CUDA_VISIBLE_DEVICES\"]=\"2\""
   ]
  },
  {
   "cell_type": "code",
   "execution_count": 2,
   "metadata": {},
   "outputs": [],
   "source": [
    "\n",
    "from sgspeech.configs.config import Config\n",
    "from sgspeech.datasets.speech_dataset import SpeechSliceDataset\n",
    "from sgspeech.featurizers.speech_featurizer import NumpySpeechFeaturizer\n",
    "from sgspeech.featurizers.text_featurizer import CharFeaturizer\n",
    "\n",
    "from sgspeech.models.ds2 import DeepSpeech2"
   ]
  },
  {
   "cell_type": "code",
   "execution_count": 3,
   "metadata": {},
   "outputs": [],
   "source": [
    "config = Config('config.yml')\n",
    "speech_featurizer = NumpySpeechFeaturizer(config.speech_config)\n",
    "text_featurizer = CharFeaturizer(config.decoder_config)"
   ]
  },
  {
   "cell_type": "markdown",
   "metadata": {},
   "source": [
    "# Training"
   ]
  },
  {
   "cell_type": "code",
   "execution_count": null,
   "metadata": {},
   "outputs": [],
   "source": [
    "from sgspeech.runners.ctc_runners import CTCTrainer\n",
    "\n",
    "train_dataset = SpeechSliceDataset(speech_featurizer=speech_featurizer, text_featurizer=text_featurizer,**vars(config.learning_config.train_dataset_config))\n",
    "eval_dataset = SpeechSliceDataset(speech_featurizer=speech_featurizer, text_featurizer=text_featurizer,**vars(config.learning_config.eval_dataset_config))\n",
    "\n",
    "ctc_trainer = CTCTrainer(text_featurizer, config.learning_config.running_config)\n",
    "\n",
    "with ctc_trainer.strategy.scope():\n",
    "    ds2_model = DeepSpeech2(**config.model_config, vocabulary_size=text_featurizer.num_classes)\n",
    "    ds2_model._build(speech_featurizer.shape)\n",
    "    ds2_model.summary(line_length=120)\n",
    "# Compile\n",
    "ctc_trainer.compile(ds2_model, config.learning_config.optimizer_config,\n",
    "                    max_to_keep=args.max_ckpts)\n",
    "\n",
    "ctc_trainer.fit(train_dataset, eval_dataset, train_bs=args.tbs, eval_bs=args.ebs)"
   ]
  },
  {
   "cell_type": "markdown",
   "metadata": {},
   "source": [
    "# Testing"
   ]
  },
  {
   "cell_type": "code",
   "execution_count": 4,
   "metadata": {},
   "outputs": [
    {
     "name": "stdout",
     "output_type": "stream",
     "text": [
      "Model: \"deepspeech2_conv_module\"\n",
      "________________________________________________________________________________________________________________________\n",
      "Layer (type)                                          Output Shape                                    Param #           \n",
      "========================================================================================================================\n",
      "deepspeech2_conv_module_block_0 (ConvBlock)           multiple                                        14592             \n",
      "________________________________________________________________________________________________________________________\n",
      "deepspeech2_conv_module_block_1 (ConvBlock)           multiple                                        236704            \n",
      "________________________________________________________________________________________________________________________\n",
      "deepspeech2_conv_module_block_2 (ConvBlock)           multiple                                        372192            \n",
      "________________________________________________________________________________________________________________________\n",
      "deepspeech2_conv_module_preprocess (Reshape)          multiple                                        0                 \n",
      "========================================================================================================================\n",
      "Total params: 623,488\n",
      "Trainable params: 623,168\n",
      "Non-trainable params: 320\n",
      "________________________________________________________________________________________________________________________\n",
      "Model: \"deepspeech2_rnn_module\"\n",
      "________________________________________________________________________________________________________________________\n",
      "Layer (type)                                          Output Shape                                    Param #           \n",
      "========================================================================================================================\n",
      "deepspeech2_rnn_module_block_0 (RnnBlock)             multiple                                        6035456           \n",
      "________________________________________________________________________________________________________________________\n",
      "deepspeech2_rnn_module_block_1 (RnnBlock)             multiple                                        6297600           \n",
      "________________________________________________________________________________________________________________________\n",
      "deepspeech2_rnn_module_block_2 (RnnBlock)             multiple                                        6297600           \n",
      "________________________________________________________________________________________________________________________\n",
      "deepspeech2_rnn_module_block_3 (RnnBlock)             multiple                                        6297600           \n",
      "________________________________________________________________________________________________________________________\n",
      "deepspeech2_rnn_module_block_4 (RnnBlock)             multiple                                        6297600           \n",
      "========================================================================================================================\n",
      "Total params: 31,225,856\n",
      "Trainable params: 31,225,856\n",
      "Non-trainable params: 0\n",
      "________________________________________________________________________________________________________________________\n",
      "Model: \"deepspeech2_fc_module\"\n",
      "________________________________________________________________________________________________________________________\n",
      "Layer (type)                                          Output Shape                                    Param #           \n",
      "========================================================================================================================\n",
      "deepspeech2_fc_module_fc (Dense)                      multiple                                        29725             \n",
      "========================================================================================================================\n",
      "Total params: 29,725\n",
      "Trainable params: 29,725\n",
      "Non-trainable params: 0\n",
      "________________________________________________________________________________________________________________________\n",
      "Model: \"deepspeech2\"\n",
      "________________________________________________________________________________________________________________________\n",
      "Layer (type)                                          Output Shape                                    Param #           \n",
      "========================================================================================================================\n",
      "deepspeech2_conv_module (ConvModule)                  multiple                                        623488            \n",
      "________________________________________________________________________________________________________________________\n",
      "deepspeech2_rnn_module (RnnModule)                    multiple                                        31225856          \n",
      "________________________________________________________________________________________________________________________\n",
      "deepspeech2_fc_module (FcModule)                      multiple                                        29725             \n",
      "========================================================================================================================\n",
      "Total params: 31,879,069\n",
      "Trainable params: 31,878,749\n",
      "Non-trainable params: 320\n",
      "________________________________________________________________________________________________________________________\n"
     ]
    }
   ],
   "source": [
    "from sgspeech.runners.base_runners import BaseTester\n",
    "\n",
    "test_dataset = SpeechSliceDataset(speech_featurizer=speech_featurizer, text_featurizer=text_featurizer, **vars(config.learning_config.test_dataset_config))\n",
    "\n",
    "ds2_model = DeepSpeech2(**config.model_config, vocabulary_size=text_featurizer.num_classes)\n",
    "ds2_model._build(speech_featurizer.shape)\n",
    "ds2_model.load_weights('../deepspeech2_tfasr/latest.h5')\n",
    "\n",
    "ds2_model.add_featurizers(speech_featurizer, text_featurizer)\n",
    "\n",
    "ds2_model.summary(line_length=120)\n"
   ]
  },
  {
   "cell_type": "code",
   "execution_count": 5,
   "metadata": {},
   "outputs": [],
   "source": [
    "ctc_tester = BaseTester(\n",
    "    config=config.learning_config.running_config,\n",
    "    output_name='result'\n",
    ")\n",
    "ctc_tester.compile(ds2_model)\n"
   ]
  },
  {
   "cell_type": "code",
   "execution_count": 6,
   "metadata": {},
   "outputs": [
    {
     "name": "stdout",
     "output_type": "stream",
     "text": [
      "Read files\n"
     ]
    },
    {
     "name": "stderr",
     "output_type": "stream",
     "text": [
      "[Test]: 100%|██████████| 2619/2619 [04:31<00:00,  9.64batch/s]\n"
     ]
    },
    {
     "name": "stdout",
     "output_type": "stream",
     "text": [
      "\n",
      "> Calculating evaluation metrics ...\n",
      "Test results:\n",
      "G_WER =  23.3716316\n",
      "G_CER =  100\n",
      "B_WER =  100\n",
      "B_CER =  100\n",
      "BLM_WER =  100\n",
      "BLM_CER =  100\n"
     ]
    }
   ],
   "source": [
    "ctc_tester.run(test_dataset)"
   ]
  },
  {
   "cell_type": "code",
   "execution_count": 11,
   "metadata": {},
   "outputs": [
    {
     "ename": "AttributeError",
     "evalue": "Layer deepspeech2_fc_module_fc has no inbound nodes.",
     "output_type": "error",
     "traceback": [
      "\u001b[0;31m---------------------------------------------------------------------------\u001b[0m",
      "\u001b[0;31mAttributeError\u001b[0m                            Traceback (most recent call last)",
      "\u001b[0;32m<ipython-input-11-b82ded4233a0>\u001b[0m in \u001b[0;36m<module>\u001b[0;34m\u001b[0m\n\u001b[0;32m----> 1\u001b[0;31m \u001b[0mds2_model\u001b[0m\u001b[0;34m.\u001b[0m\u001b[0mget_layer\u001b[0m\u001b[0;34m(\u001b[0m\u001b[0;34m'deepspeech2_fc_module'\u001b[0m\u001b[0;34m)\u001b[0m\u001b[0;34m.\u001b[0m\u001b[0mget_layer\u001b[0m\u001b[0;34m(\u001b[0m\u001b[0;34m'deepspeech2_fc_module_fc'\u001b[0m\u001b[0;34m)\u001b[0m\u001b[0;34m.\u001b[0m\u001b[0moutput\u001b[0m\u001b[0;34m\u001b[0m\u001b[0;34m\u001b[0m\u001b[0m\n\u001b[0m",
      "\u001b[0;32m~/anaconda3/envs/sgspeech/lib/python3.8/site-packages/tensorflow/python/keras/engine/base_layer.py\u001b[0m in \u001b[0;36moutput\u001b[0;34m(self)\u001b[0m\n\u001b[1;32m   2152\u001b[0m     \"\"\"\n\u001b[1;32m   2153\u001b[0m     \u001b[0;32mif\u001b[0m \u001b[0;32mnot\u001b[0m \u001b[0mself\u001b[0m\u001b[0;34m.\u001b[0m\u001b[0m_inbound_nodes\u001b[0m\u001b[0;34m:\u001b[0m\u001b[0;34m\u001b[0m\u001b[0;34m\u001b[0m\u001b[0m\n\u001b[0;32m-> 2154\u001b[0;31m       \u001b[0;32mraise\u001b[0m \u001b[0mAttributeError\u001b[0m\u001b[0;34m(\u001b[0m\u001b[0;34m'Layer '\u001b[0m \u001b[0;34m+\u001b[0m \u001b[0mself\u001b[0m\u001b[0;34m.\u001b[0m\u001b[0mname\u001b[0m \u001b[0;34m+\u001b[0m \u001b[0;34m' has no inbound nodes.'\u001b[0m\u001b[0;34m)\u001b[0m\u001b[0;34m\u001b[0m\u001b[0;34m\u001b[0m\u001b[0m\n\u001b[0m\u001b[1;32m   2155\u001b[0m     \u001b[0;32mreturn\u001b[0m \u001b[0mself\u001b[0m\u001b[0;34m.\u001b[0m\u001b[0m_get_node_attribute_at_index\u001b[0m\u001b[0;34m(\u001b[0m\u001b[0;36m0\u001b[0m\u001b[0;34m,\u001b[0m \u001b[0;34m'output_tensors'\u001b[0m\u001b[0;34m,\u001b[0m \u001b[0;34m'output'\u001b[0m\u001b[0;34m)\u001b[0m\u001b[0;34m\u001b[0m\u001b[0;34m\u001b[0m\u001b[0m\n\u001b[1;32m   2156\u001b[0m \u001b[0;34m\u001b[0m\u001b[0m\n",
      "\u001b[0;31mAttributeError\u001b[0m: Layer deepspeech2_fc_module_fc has no inbound nodes."
     ]
    }
   ],
   "source": [
    "ds2_model.get_layer('deepspeech2_fc_module').get_layer('deepspeech2_fc_module_fc').output"
   ]
  },
  {
   "cell_type": "code",
   "execution_count": 18,
   "metadata": {},
   "outputs": [
    {
     "ename": "AttributeError",
     "evalue": "Layer deepspeech2_fc_module is not connected, no input to return.",
     "output_type": "error",
     "traceback": [
      "\u001b[0;31m---------------------------------------------------------------------------\u001b[0m",
      "\u001b[0;31mAttributeError\u001b[0m                            Traceback (most recent call last)",
      "\u001b[0;32m<ipython-input-18-956556dbf50a>\u001b[0m in \u001b[0;36m<module>\u001b[0;34m\u001b[0m\n\u001b[0;32m----> 1\u001b[0;31m \u001b[0mds2_model\u001b[0m\u001b[0;34m.\u001b[0m\u001b[0mget_layer\u001b[0m\u001b[0;34m(\u001b[0m\u001b[0;34m'deepspeech2_fc_module'\u001b[0m\u001b[0;34m)\u001b[0m\u001b[0;34m.\u001b[0m\u001b[0minput\u001b[0m\u001b[0;34m\u001b[0m\u001b[0;34m\u001b[0m\u001b[0m\n\u001b[0m",
      "\u001b[0;32m~/anaconda3/envs/sgspeech/lib/python3.8/site-packages/tensorflow/python/keras/engine/base_layer.py\u001b[0m in \u001b[0;36minput\u001b[0;34m(self)\u001b[0m\n\u001b[1;32m   2132\u001b[0m     \"\"\"\n\u001b[1;32m   2133\u001b[0m     \u001b[0;32mif\u001b[0m \u001b[0;32mnot\u001b[0m \u001b[0mself\u001b[0m\u001b[0;34m.\u001b[0m\u001b[0m_inbound_nodes\u001b[0m\u001b[0;34m:\u001b[0m\u001b[0;34m\u001b[0m\u001b[0;34m\u001b[0m\u001b[0m\n\u001b[0;32m-> 2134\u001b[0;31m       raise AttributeError('Layer ' + self.name +\n\u001b[0m\u001b[1;32m   2135\u001b[0m                            ' is not connected, no input to return.')\n\u001b[1;32m   2136\u001b[0m     \u001b[0;32mreturn\u001b[0m \u001b[0mself\u001b[0m\u001b[0;34m.\u001b[0m\u001b[0m_get_node_attribute_at_index\u001b[0m\u001b[0;34m(\u001b[0m\u001b[0;36m0\u001b[0m\u001b[0;34m,\u001b[0m \u001b[0;34m'input_tensors'\u001b[0m\u001b[0;34m,\u001b[0m \u001b[0;34m'input'\u001b[0m\u001b[0;34m)\u001b[0m\u001b[0;34m\u001b[0m\u001b[0;34m\u001b[0m\u001b[0m\n",
      "\u001b[0;31mAttributeError\u001b[0m: Layer deepspeech2_fc_module is not connected, no input to return."
     ]
    }
   ],
   "source": [
    "ds2_model.get_layer('deepspeech2_fc_module').input"
   ]
  },
  {
   "cell_type": "code",
   "execution_count": 31,
   "metadata": {},
   "outputs": [
    {
     "name": "stdout",
     "output_type": "stream",
     "text": [
      "Read files\n"
     ]
    }
   ],
   "source": [
    "test_iter = iter(test_dataset.create(1))"
   ]
  },
  {
   "cell_type": "code",
   "execution_count": 33,
   "metadata": {},
   "outputs": [],
   "source": [
    "batch = next(test_iter)"
   ]
  },
  {
   "cell_type": "code",
   "execution_count": 34,
   "metadata": {},
   "outputs": [
    {
     "data": {
      "text/plain": [
       "(<tf.Tensor: shape=(1,), dtype=string, numpy=\n",
       " array([b'/home/CORPUS/LibriSpeech/test-clean/6930/75918/6930-75918-0001.flac'],\n",
       "       dtype=object)>,\n",
       " <tf.Tensor: shape=(1, 1420, 80, 1), dtype=float32, numpy=\n",
       " array([[[[-0.10527746],\n",
       "          [-0.8822928 ],\n",
       "          [-1.469422  ],\n",
       "          ...,\n",
       "          [-0.14052185],\n",
       "          [-0.39716178],\n",
       "          [-0.8145599 ]],\n",
       " \n",
       "         [[-0.3966327 ],\n",
       "          [-0.7339688 ],\n",
       "          [-1.5704011 ],\n",
       "          ...,\n",
       "          [-0.09846278],\n",
       "          [-0.570096  ],\n",
       "          [-0.8241293 ]],\n",
       " \n",
       "         [[-0.613629  ],\n",
       "          [-1.2102872 ],\n",
       "          [-1.7619019 ],\n",
       "          ...,\n",
       "          [-0.27932546],\n",
       "          [-0.3360485 ],\n",
       "          [-0.4656605 ]],\n",
       " \n",
       "         ...,\n",
       " \n",
       "         [[-0.39576238],\n",
       "          [-0.71845514],\n",
       "          [-1.4273047 ],\n",
       "          ...,\n",
       "          [-1.7072636 ],\n",
       "          [-1.6666433 ],\n",
       "          [-1.7108108 ]],\n",
       " \n",
       "         [[-0.48675725],\n",
       "          [-0.84964746],\n",
       "          [-1.5051823 ],\n",
       "          ...,\n",
       "          [-1.5047724 ],\n",
       "          [-1.2856754 ],\n",
       "          [-1.4504849 ]],\n",
       " \n",
       "         [[-0.8162507 ],\n",
       "          [-1.3306706 ],\n",
       "          [-1.7660338 ],\n",
       "          ...,\n",
       "          [-1.7660338 ],\n",
       "          [-1.4361161 ],\n",
       "          [-1.6554931 ]]]], dtype=float32)>,\n",
       " <tf.Tensor: shape=(1,), dtype=int32, numpy=array([1420], dtype=int32)>,\n",
       " <tf.Tensor: shape=(1, 230), dtype=int32, numpy=\n",
       " array([[20,  8,  5,  0,  5, 14,  7, 12,  9, 19,  8,  0,  6, 15, 18, 23,\n",
       "          1, 18,  4,  5,  4,  0, 20, 15,  0, 20,  8,  5,  0,  6, 18,  5,\n",
       "         14,  3,  8,  0,  2,  1, 19, 11,  5, 20, 19,  0, 15,  6,  0,  6,\n",
       "         12, 15, 23,  5, 18, 19,  0, 15,  6,  0, 23,  8,  9,  3,  8,  0,\n",
       "         20,  8,  5, 25,  0,  8,  1,  4,  0, 13,  1,  4,  5,  0,  1,  0,\n",
       "         16, 12,  5, 14, 20,  9,  6, 21, 12,  0, 16, 18, 15, 22,  9, 19,\n",
       "          9, 15, 14,  0, 20, 15,  0,  7, 18,  5,  5, 20,  0, 20,  8,  5,\n",
       "          0,  1, 18, 18,  9, 22,  1, 12,  0, 15,  6,  0, 20,  8,  5,  0,\n",
       "         25, 15, 21, 14,  7,  0, 16, 18,  9, 14,  3,  5, 19, 19,  0, 20,\n",
       "          8,  5,  0,  6, 18,  5, 14,  3,  8,  0,  9, 14,  0, 18,  5, 20,\n",
       "         21, 18, 14,  0,  9, 14, 22,  9, 20,  5,  4,  0, 20,  8,  5,  0,\n",
       "          5, 14,  7, 12,  9, 19,  8,  0, 20, 15,  0,  1,  0, 19, 21, 16,\n",
       "         16,  5, 18,  0, 23,  8,  9,  3,  8,  0, 23,  1, 19,  0, 20, 15,\n",
       "          0,  2,  5,  0,  7,  9, 22,  5, 14,  0, 20,  8,  5,  0, 14,  5,\n",
       "         24, 20,  0,  4,  1, 25]], dtype=int32)>,\n",
       " <tf.Tensor: shape=(1,), dtype=int32, numpy=array([230], dtype=int32)>,\n",
       " <tf.Tensor: shape=(1, 231), dtype=int32, numpy=\n",
       " array([[28, 20,  8,  5,  0,  5, 14,  7, 12,  9, 19,  8,  0,  6, 15, 18,\n",
       "         23,  1, 18,  4,  5,  4,  0, 20, 15,  0, 20,  8,  5,  0,  6, 18,\n",
       "          5, 14,  3,  8,  0,  2,  1, 19, 11,  5, 20, 19,  0, 15,  6,  0,\n",
       "          6, 12, 15, 23,  5, 18, 19,  0, 15,  6,  0, 23,  8,  9,  3,  8,\n",
       "          0, 20,  8,  5, 25,  0,  8,  1,  4,  0, 13,  1,  4,  5,  0,  1,\n",
       "          0, 16, 12,  5, 14, 20,  9,  6, 21, 12,  0, 16, 18, 15, 22,  9,\n",
       "         19,  9, 15, 14,  0, 20, 15,  0,  7, 18,  5,  5, 20,  0, 20,  8,\n",
       "          5,  0,  1, 18, 18,  9, 22,  1, 12,  0, 15,  6,  0, 20,  8,  5,\n",
       "          0, 25, 15, 21, 14,  7,  0, 16, 18,  9, 14,  3,  5, 19, 19,  0,\n",
       "         20,  8,  5,  0,  6, 18,  5, 14,  3,  8,  0,  9, 14,  0, 18,  5,\n",
       "         20, 21, 18, 14,  0,  9, 14, 22,  9, 20,  5,  4,  0, 20,  8,  5,\n",
       "          0,  5, 14,  7, 12,  9, 19,  8,  0, 20, 15,  0,  1,  0, 19, 21,\n",
       "         16, 16,  5, 18,  0, 23,  8,  9,  3,  8,  0, 23,  1, 19,  0, 20,\n",
       "         15,  0,  2,  5,  0,  7,  9, 22,  5, 14,  0, 20,  8,  5,  0, 14,\n",
       "          5, 24, 20,  0,  4,  1, 25]], dtype=int32)>,\n",
       " <tf.Tensor: shape=(1,), dtype=int32, numpy=array([231], dtype=int32)>)"
      ]
     },
     "execution_count": 34,
     "metadata": {},
     "output_type": "execute_result"
    }
   ],
   "source": [
    "batch"
   ]
  },
  {
   "cell_type": "code",
   "execution_count": null,
   "metadata": {},
   "outputs": [],
   "source": []
  }
 ],
 "metadata": {
  "kernelspec": {
   "display_name": "conda_env_sgspeech",
   "language": "python",
   "name": "conda_env_sgspeech"
  },
  "language_info": {
   "codemirror_mode": {
    "name": "ipython",
    "version": 3
   },
   "file_extension": ".py",
   "mimetype": "text/x-python",
   "name": "python",
   "nbconvert_exporter": "python",
   "pygments_lexer": "ipython3",
   "version": "3.8.5"
  }
 },
 "nbformat": 4,
 "nbformat_minor": 4
}
